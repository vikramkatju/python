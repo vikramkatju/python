{
 "cells": [
  {
   "cell_type": "markdown",
   "metadata": {},
   "source": [
    "# Pandas\n",
    "## Practice Problems"
   ]
  },
  {
   "cell_type": "markdown",
   "metadata": {},
   "source": [
    "### 1. Start by loading the `subway_stations.csv` to a DataFrame, and then:\n",
    "\n",
    "1.   Check the first 5 rows of subway_stations.\n",
    "2.   Check subway_stations column data types and shape.\n",
    "3.   How many unique values are in the station column?\n",
    "4.   merge() the subway station data into delays_w_reasons. Make sure that all delay records are kept, even if there is no matching station name in subway_stations. The resulting DataFrame should have 16,370 rows."
   ]
  },
  {
   "cell_type": "code",
   "execution_count": null,
   "metadata": {},
   "outputs": [],
   "source": [
    "# Your code here"
   ]
  },
  {
   "cell_type": "markdown",
   "metadata": {},
   "source": [
    "<details>\n",
    "  <summary>Answer</summary>\n",
    "\n",
    "  ```python\n",
    "  import numpy as np\n",
    "  import pandas as pd\n",
    "\n",
    "  subway = pd.read_csv('/content/data/subway_stations.csv') #change path\n",
    "  subway.head()\n",
    "  ```\n",
    "</details>"
   ]
  },
  {
   "cell_type": "markdown",
   "metadata": {},
   "source": [
    "2.   Check subway_stations column data types and shape.\n"
   ]
  },
  {
   "cell_type": "code",
   "execution_count": null,
   "metadata": {},
   "outputs": [],
   "source": [
    "# Your code here"
   ]
  },
  {
   "cell_type": "markdown",
   "metadata": {},
   "source": [
    "<details>\n",
    "  <summary>Answer</summary>\n",
    "\n",
    "  ```python\n",
    "  subway.info()\n",
    "  ```\n",
    "</details>"
   ]
  },
  {
   "cell_type": "markdown",
   "metadata": {},
   "source": [
    "3.   How many unique values are in the station column?\n"
   ]
  },
  {
   "cell_type": "code",
   "execution_count": null,
   "metadata": {},
   "outputs": [],
   "source": [
    "# Your code here"
   ]
  },
  {
   "cell_type": "markdown",
   "metadata": {},
   "source": [
    "<details>\n",
    "  <summary>Answer</summary>\n",
    "\n",
    "  ```python\n",
    "  len(subway['station'].unique())\n",
    "  ```\n",
    "</details>"
   ]
  },
  {
   "cell_type": "markdown",
   "metadata": {},
   "source": [
    "4.   merge() the subway station data into delays_w_reasons. Make sure that all delay records are kept, even if there is no matching station name in subway_stations. The resulting DataFrame should have 16,370 rows."
   ]
  },
  {
   "cell_type": "code",
   "execution_count": null,
   "metadata": {},
   "outputs": [],
   "source": [
    "# Your code here"
   ]
  },
  {
   "cell_type": "markdown",
   "metadata": {},
   "source": [
    "<details>\n",
    "  <summary>Answer</summary>\n",
    "\n",
    "  ```python\n",
    "  delay_w_reasons = pd.read_excel('/content/data/delays_w_reasons.xlsx') #change path\n",
    "merged = pd.merge(delay_w_reasons, \n",
    "                            subway, \n",
    "                            how='left',\n",
    "                            left_on='station', \n",
    "                            right_on='station')\n",
    "merged.head()\n",
    "  ```\n",
    "</details>\n",
    "\n"
   ]
  }
 ],
 "metadata": {
  "language_info": {
   "name": "python"
  }
 },
 "nbformat": 4,
 "nbformat_minor": 2
}
