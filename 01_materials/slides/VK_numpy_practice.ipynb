{
 "cells": [
  {
   "cell_type": "code",
   "execution_count": 5,
   "metadata": {},
   "outputs": [],
   "source": [
    "import numpy as np\n",
    "a = np.array([\n",
    "             [1,2,3],\n",
    "             [3,2,1]\n",
    "             ])\n",
    "\n",
    "b = np.array([\n",
    "              [1,2,3],\n",
    "              [4,5,6],\n",
    "              [7,8,9]\n",
    "             ])\n"
   ]
  },
  {
   "cell_type": "code",
   "execution_count": null,
   "metadata": {},
   "outputs": [
    {
     "name": "stdout",
     "output_type": "stream",
     "text": [
      "2\n",
      "2\n",
      "(2, 3)\n",
      "(3, 3)\n",
      "6\n",
      "9\n",
      "int64\n",
      "int64\n"
     ]
    }
   ],
   "source": [
    "print (a.ndim) #ndim denotes the number of axis (dimensions) of the array. a and b are arrays of 1-D arrays.\n",
    "print (b.ndim)\n",
    "print (a.shape) #indicates the size in each dimension\n",
    "print (b.shape)\n",
    "print (a.size)\n",
    "print (b.size)\n",
    "print (a.dtype)\n",
    "print (b.dtype)"
   ]
  },
  {
   "cell_type": "code",
   "execution_count": 13,
   "metadata": {},
   "outputs": [
    {
     "name": "stdout",
     "output_type": "stream",
     "text": [
      "[[[0. 0.]\n",
      "  [0. 0.]\n",
      "  [0. 0.]]\n",
      "\n",
      " [[0. 0.]\n",
      "  [0. 0.]\n",
      "  [0. 0.]]]\n",
      "[[1 1 1]\n",
      " [1 1 1]]\n"
     ]
    }
   ],
   "source": [
    "print ( np.zeros((2, 3, 2)\n",
    "                 ) )\n",
    "print (np.ones_like(a))"
   ]
  },
  {
   "cell_type": "code",
   "execution_count": 25,
   "metadata": {},
   "outputs": [
    {
     "name": "stdout",
     "output_type": "stream",
     "text": [
      "[1 3 5 7 9]\n",
      "[ 1  2  3  4  5  6  7  8  9 10]\n"
     ]
    }
   ],
   "source": [
    " \n",
    "print ( np.arange(1, 10, 2) )\n",
    "print ( np.arange(1, 11) )\n"
   ]
  }
 ],
 "metadata": {
  "kernelspec": {
   "display_name": "dsi_participant",
   "language": "python",
   "name": "python3"
  },
  "language_info": {
   "codemirror_mode": {
    "name": "ipython",
    "version": 3
   },
   "file_extension": ".py",
   "mimetype": "text/x-python",
   "name": "python",
   "nbconvert_exporter": "python",
   "pygments_lexer": "ipython3",
   "version": "3.9.20"
  }
 },
 "nbformat": 4,
 "nbformat_minor": 2
}
