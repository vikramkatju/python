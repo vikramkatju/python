{
 "cells": [
  {
   "cell_type": "markdown",
   "id": "f0a75cf8",
   "metadata": {},
   "source": [
    "# Strings"
   ]
  },
  {
   "cell_type": "markdown",
   "id": "c97abf3e",
   "metadata": {},
   "source": [
    "## Contents:\n",
    "1. What is a string?\n",
    "2. String examples\n",
    "3. Multiline strings\n",
    "4. Escape sequences\n",
    "5. Working with strings and overloading\n",
    "6. Strings within strings\n",
    "7. Strings and functions\n",
    "8. String methods\n",
    "9. Formatting strings"
   ]
  },
  {
   "cell_type": "markdown",
   "id": "ed8b70b9",
   "metadata": {
    "id": "ed8b70b9"
   },
   "source": [
    "## What is a string?\n",
    "\n",
    "`str`, short for _string_, is Python's text data type. Strings are sequences of characters, including digits and symbols. Strings are surrounded by either single (`'`) or double (`\"`) quotes. Which one to use is a matter of preference, but they must be the consistent around a string and should be consistent across our code. The presence of apostrophes, single quotes, or double quotes in our text may require us to use a different quote option, though."
   ]
  },
  {
   "cell_type": "markdown",
   "id": "9e2bdd59",
   "metadata": {
    "id": "9e2bdd59"
   },
   "source": [
    "## String examples"
   ]
  },
  {
   "cell_type": "code",
   "execution_count": null,
   "id": "12eb8ee1",
   "metadata": {
    "colab": {
     "base_uri": "https://localhost:8080/",
     "height": 35
    },
    "id": "12eb8ee1",
    "outputId": "3df3cf07-49ba-4d55-dde1-1c7d69b8910d"
   },
   "outputs": [],
   "source": [
    "'This is a string'"
   ]
  },
  {
   "cell_type": "code",
   "execution_count": null,
   "id": "4ac33807",
   "metadata": {
    "colab": {
     "base_uri": "https://localhost:8080/",
     "height": 35
    },
    "id": "4ac33807",
    "outputId": "eb260431-9797-418c-85d9-7cd213af2c83"
   },
   "outputs": [],
   "source": [
    "\"So is this\""
   ]
  },
  {
   "cell_type": "code",
   "execution_count": null,
   "id": "352e8161",
   "metadata": {
    "colab": {
     "base_uri": "https://localhost:8080/",
     "height": 140
    },
    "id": "352e8161",
    "outputId": "0c511efe-8df2-4211-d053-346e4082715d"
   },
   "outputs": [],
   "source": [
    "\"these quotes do not match'"
   ]
  },
  {
   "cell_type": "code",
   "execution_count": 5,
   "id": "b555fd3c",
   "metadata": {
    "colab": {
     "base_uri": "https://localhost:8080/",
     "height": 140
    },
    "id": "b555fd3c",
    "outputId": "0e405bf8-9768-4b3a-cd10-b54c67a1499f"
   },
   "outputs": [
    {
     "ename": "SyntaxError",
     "evalue": "invalid syntax (1618629434.py, line 1)",
     "output_type": "error",
     "traceback": [
      "\u001b[0;36m  Cell \u001b[0;32mIn[5], line 1\u001b[0;36m\u001b[0m\n\u001b[0;31m    'Let's see if this works\u001b[0m\n\u001b[0m         ^\u001b[0m\n\u001b[0;31mSyntaxError\u001b[0m\u001b[0;31m:\u001b[0m invalid syntax\n"
     ]
    }
   ],
   "source": [
    "'Let's see if this works"
   ]
  },
  {
   "cell_type": "code",
   "execution_count": null,
   "id": "5d695d24",
   "metadata": {
    "colab": {
     "base_uri": "https://localhost:8080/",
     "height": 35
    },
    "id": "5d695d24",
    "outputId": "ae0c4066-a0cd-4022-bac4-c8da8daa633d"
   },
   "outputs": [],
   "source": [
    "# use double quotes to avoid the error\n",
    "\"Let's see if this works now\""
   ]
  },
  {
   "cell_type": "markdown",
   "id": "e1404f58",
   "metadata": {
    "id": "e1404f58"
   },
   "source": [
    "## Multiline strings\n",
    "\n",
    "If we want a string to span multiple lines of code, we need to wrap it in triple quotations (`'''` or `\"\"\"`). We saw this before with our docstrings!"
   ]
  },
  {
   "cell_type": "code",
   "execution_count": null,
   "id": "af1875b1",
   "metadata": {
    "colab": {
     "base_uri": "https://localhost:8080/",
     "height": 35
    },
    "id": "af1875b1",
    "outputId": "9bab7296-f900-4e56-ab10-d3479acc2f25"
   },
   "outputs": [],
   "source": [
    "'''\n",
    "I am a multiline string\n",
    "\n",
    "I'm very useful for documenting functions\n",
    "and for storing longer texts.\n",
    "\n",
    "And you don't have to worry about apostrophes or \"quote\"s!\n",
    "'''"
   ]
  },
  {
   "cell_type": "markdown",
   "id": "991542af",
   "metadata": {},
   "source": [
    "## Exercise 1\n",
    "Create a multiline variable on anything of your choice and output it."
   ]
  },
  {
   "cell_type": "code",
   "execution_count": 3,
   "id": "7bd99207",
   "metadata": {},
   "outputs": [
    {
     "name": "stdout",
     "output_type": "stream",
     "text": [
      "the rain in Spain\n",
      "falls mainly in the plains\n"
     ]
    }
   ],
   "source": [
    "# Your code goes her\n",
    "x = '''the rain in Spain\n",
    "falls mainly in the plains'''\n",
    "\n",
    "print (x)"
   ]
  },
  {
   "cell_type": "code",
   "execution_count": 4,
   "id": "9422e3aa",
   "metadata": {},
   "outputs": [
    {
     "data": {
      "text/plain": [
       "'the rain in Spain\\nfalls mainly in the plains'"
      ]
     },
     "execution_count": 4,
     "metadata": {},
     "output_type": "execute_result"
    }
   ],
   "source": [
    "x"
   ]
  },
  {
   "cell_type": "markdown",
   "id": "b19547d6",
   "metadata": {
    "id": "b19547d6"
   },
   "source": [
    "## Escape sequences\n",
    "\n",
    "Where did those `\\n` characters come from and where did our line breaks go in that last string? `\\n` is an _escape sequence_, a combination of characters that means something else. Here, it means \"new line\", not literally \"\\n\". More generally, the backslash (`\\`) is an escape character that can be used to indicate that the next character should be treated differently."
   ]
  },
  {
   "cell_type": "markdown",
   "id": "b6191db7",
   "metadata": {
    "id": "b6191db7"
   },
   "source": [
    "### Escape sequences\n",
    "\n",
    "| Escape sequence | Description        |\n",
    "|-----------------|--------------------|\n",
    "| \\\\'             | Single quote       |\n",
    "| \\\\\"             | Double quote       |\n",
    "| \\\\\\\\            | Backslash          |\n",
    "| \\\\t             | Tab                |\n",
    "| \\\\n             | Newline            |\n",
    "| \\\\r             | Carriage return    |"
   ]
  },
  {
   "cell_type": "markdown",
   "id": "9e15d76e",
   "metadata": {},
   "source": [
    "There are other escape sequences in Python that do not require a `print` statement to be correctly interpreted within a string. These escape sequences can be used directly in the string definition and will work as expected. Here are some common escape sequences:\n",
    "\n",
    "1. `\\\\`: This escape sequence represents a single backslash character. You can use it directly in a string to include a backslash.\n",
    "   \n",
    "   Example:\n",
    "   ```python\n",
    "   my_string = 'This is a backslash: \\\\'\n",
    "   ```\n",
    "\n",
    "2. `\\\"`: This escape sequence represents a double quotation mark (`\"`). It allows you to include double quotes within a double-quoted string.\n",
    "\n",
    "   Example:\n",
    "   ```python\n",
    "   my_string = \"This is a double-quoted string with a quote inside: \\\"example\\\"\"\n",
    "   ```\n",
    "\n",
    "3. `\\'`: As previously mentioned, this escape sequence represents a single quotation mark (`'`) and can be used within a single-quoted string.\n",
    "\n",
    "   Example:\n",
    "   ```python\n",
    "   my_string = 'This is a single-quoted string with a quote inside: won\\'t'\n",
    "   ```\n",
    "\n",
    "These escape sequences work in the same way as `\\'` and do not require a `print` statement for proper interpretation within a string. They allow you to include special characters within your string literals."
   ]
  },
  {
   "cell_type": "code",
   "execution_count": 6,
   "id": "f798ecd5",
   "metadata": {
    "colab": {
     "base_uri": "https://localhost:8080/",
     "height": 35
    },
    "id": "f798ecd5",
    "outputId": "ef00a60a-3e44-4415-f36c-d2bdf25e2fe1"
   },
   "outputs": [
    {
     "data": {
      "text/plain": [
       "\"This string won't result in an error thanks to the escape sequence\""
      ]
     },
     "execution_count": 6,
     "metadata": {},
     "output_type": "execute_result"
    }
   ],
   "source": [
    "'This string won\\'t result in an error thanks to the escape sequence'"
   ]
  },
  {
   "cell_type": "markdown",
   "id": "11052d21",
   "metadata": {
    "id": "11052d21"
   },
   "source": [
    "## Working with strings and overloading\n",
    "\n",
    "Some arithmetic and comparison operators also work with strings, though their meaning changes. When an operator does different things depending on the data provided, we say that it is _overloaded_. It's important to understand what type of data is being used with an overloaded operator so that the results are as expected."
   ]
  },
  {
   "cell_type": "markdown",
   "id": "1732a7cd",
   "metadata": {
    "id": "1732a7cd"
   },
   "source": [
    "### Strings and arithmetic operators"
   ]
  },
  {
   "cell_type": "code",
   "execution_count": 7,
   "id": "4e36d1f4",
   "metadata": {
    "colab": {
     "base_uri": "https://localhost:8080/",
     "height": 35
    },
    "id": "4e36d1f4",
    "outputId": "b8e57f97-1c4e-4a47-acd0-f81bfa38210c"
   },
   "outputs": [
    {
     "data": {
      "text/plain": [
       "'hello world'"
      ]
     },
     "execution_count": 7,
     "metadata": {},
     "output_type": "execute_result"
    }
   ],
   "source": [
    "# adding strings together concatenates them\n",
    "'hello' + ' ' + 'world'"
   ]
  },
  {
   "cell_type": "code",
   "execution_count": 8,
   "id": "69d734a3",
   "metadata": {
    "colab": {
     "base_uri": "https://localhost:8080/",
     "height": 35
    },
    "id": "69d734a3",
    "outputId": "819999ca-6460-4588-ed16-8da34c4ebae4"
   },
   "outputs": [
    {
     "data": {
      "text/plain": [
       "'hahaha'"
      ]
     },
     "execution_count": 8,
     "metadata": {},
     "output_type": "execute_result"
    }
   ],
   "source": [
    "# multiplying a string repeats it\n",
    "'ha' * 3"
   ]
  },
  {
   "cell_type": "code",
   "execution_count": 9,
   "id": "444cd7f1",
   "metadata": {
    "colab": {
     "base_uri": "https://localhost:8080/",
     "height": 191
    },
    "id": "444cd7f1",
    "outputId": "2c58cc3f-dc2e-44cc-81e1-d467bef8db4e"
   },
   "outputs": [
    {
     "ename": "TypeError",
     "evalue": "can only concatenate str (not \"int\") to str",
     "output_type": "error",
     "traceback": [
      "\u001b[0;31m---------------------------------------------------------------------------\u001b[0m",
      "\u001b[0;31mTypeError\u001b[0m                                 Traceback (most recent call last)",
      "Cell \u001b[0;32mIn[9], line 2\u001b[0m\n\u001b[1;32m      1\u001b[0m \u001b[38;5;66;03m# mixing data types results in an error\u001b[39;00m\n\u001b[0;32m----> 2\u001b[0m \u001b[38;5;124;43m'\u001b[39;49m\u001b[38;5;124;43mThe year is \u001b[39;49m\u001b[38;5;124;43m'\u001b[39;49m\u001b[43m \u001b[49m\u001b[38;5;241;43m+\u001b[39;49m\u001b[43m \u001b[49m\u001b[38;5;241;43m2020\u001b[39;49m\n",
      "\u001b[0;31mTypeError\u001b[0m: can only concatenate str (not \"int\") to str"
     ]
    }
   ],
   "source": [
    "# mixing data types results in an error\n",
    "'The year is ' + 2020"
   ]
  },
  {
   "cell_type": "markdown",
   "id": "beca20a7",
   "metadata": {
    "id": "beca20a7"
   },
   "source": [
    "### Strings and comparison operators\n",
    "\n",
    "We can use the `==` and `!=` operators to compare strings, as well as to compare strings and numbers."
   ]
  },
  {
   "cell_type": "code",
   "execution_count": 10,
   "id": "b922b788",
   "metadata": {
    "colab": {
     "base_uri": "https://localhost:8080/"
    },
    "id": "b922b788",
    "outputId": "a40e63ee-89bb-479e-dc21-c04b53502d2b"
   },
   "outputs": [
    {
     "data": {
      "text/plain": [
       "False"
      ]
     },
     "execution_count": 10,
     "metadata": {},
     "output_type": "execute_result"
    }
   ],
   "source": [
    "'apple' == 'Apple'"
   ]
  },
  {
   "cell_type": "code",
   "execution_count": 11,
   "id": "5f0f4faa",
   "metadata": {
    "colab": {
     "base_uri": "https://localhost:8080/"
    },
    "id": "5f0f4faa",
    "outputId": "3c0a30f0-dc4b-4a93-f1f0-d89a8806cd5a"
   },
   "outputs": [
    {
     "data": {
      "text/plain": [
       "True"
      ]
     },
     "execution_count": 11,
     "metadata": {},
     "output_type": "execute_result"
    }
   ],
   "source": [
    "'apple' != 'Apple'"
   ]
  },
  {
   "cell_type": "code",
   "execution_count": 12,
   "id": "1158f00c",
   "metadata": {
    "colab": {
     "base_uri": "https://localhost:8080/"
    },
    "id": "1158f00c",
    "outputId": "a88646b6-af0a-4100-fcfe-e3439a3097cd"
   },
   "outputs": [
    {
     "data": {
      "text/plain": [
       "False"
      ]
     },
     "execution_count": 12,
     "metadata": {},
     "output_type": "execute_result"
    }
   ],
   "source": [
    "'20' == 20"
   ]
  },
  {
   "cell_type": "markdown",
   "id": "fb078997",
   "metadata": {
    "id": "fb078997"
   },
   "source": [
    "## Strings within strings\n",
    "\n",
    "\n",
    "We can extract a piece of a string by _slicing_ it. For example, if we want to get initials from a first name and last name, we may slice the first letter of each.\n",
    "\n",
    "To slice a string, we add square brackets (`[]`) to the end of it. To get a single character, we then put the _index_ or position, of the character we want to get.\n",
    "\n",
    "To get multiple characters, we put the starting index of our slice, then a colon (`:`) and finally the index where we want to end our slice. **Strings in Python are _zero-indexed_, meaning that the first letter is at index 0, not 1.** Slices do not include the character at the ending index position."
   ]
  },
  {
   "cell_type": "markdown",
   "id": "f07856bf",
   "metadata": {
    "id": "f07856bf"
   },
   "source": [
    "### Slicing single characters"
   ]
  },
  {
   "cell_type": "code",
   "execution_count": 13,
   "id": "c231d8f4",
   "metadata": {
    "colab": {
     "base_uri": "https://localhost:8080/"
    },
    "id": "c231d8f4",
    "outputId": "c98c26a1-0f5f-417a-e0dc-7335d7f31491"
   },
   "outputs": [
    {
     "name": "stdout",
     "output_type": "stream",
     "text": [
      "Initials are A L\n"
     ]
    }
   ],
   "source": [
    "first_name = 'Ada'\n",
    "last_name = 'Lovelace'\n",
    "\n",
    "# print initials\n",
    "print('Initials are', first_name[0], last_name[0])"
   ]
  },
  {
   "cell_type": "markdown",
   "id": "b2ad7ff0",
   "metadata": {
    "id": "b2ad7ff0"
   },
   "source": [
    "If we don't provide a starting index, our string slice will go from the beginning to the ending index. Similarly, if we don't provide an ending index, our string slice will go from the starting index to the end."
   ]
  },
  {
   "cell_type": "code",
   "execution_count": 14,
   "id": "2a8ab4a2",
   "metadata": {
    "colab": {
     "base_uri": "https://localhost:8080/"
    },
    "id": "2a8ab4a2",
    "outputId": "d8ba7212-f7fb-45ea-d702-a650a66063ef"
   },
   "outputs": [
    {
     "name": "stdout",
     "output_type": "stream",
     "text": [
      "A lace\n"
     ]
    }
   ],
   "source": [
    "print(first_name[:1], last_name[4:])"
   ]
  },
  {
   "cell_type": "code",
   "execution_count": 15,
   "id": "474b7246",
   "metadata": {
    "colab": {
     "base_uri": "https://localhost:8080/",
     "height": 35
    },
    "id": "474b7246",
    "outputId": "0eab5c5c-1800-4285-8634-dc4d14e2f017"
   },
   "outputs": [
    {
     "data": {
      "text/plain": [
       "'555'"
      ]
     },
     "execution_count": 15,
     "metadata": {},
     "output_type": "execute_result"
    }
   ],
   "source": [
    "phone_number = '+1 555-123-4567'\n",
    "\n",
    "# get the area code\n",
    "phone_number[3:6]"
   ]
  },
  {
   "cell_type": "markdown",
   "id": "6c8352ae",
   "metadata": {
    "id": "6c8352ae"
   },
   "source": [
    "We can even use negative indices. Here, we slice from the fourth-to-last character to the end."
   ]
  },
  {
   "cell_type": "code",
   "execution_count": 16,
   "id": "41ee9c63",
   "metadata": {
    "colab": {
     "base_uri": "https://localhost:8080/",
     "height": 35
    },
    "id": "41ee9c63",
    "outputId": "a28e1821-c5d8-49d7-8eb9-0f5efced5092"
   },
   "outputs": [
    {
     "data": {
      "text/plain": [
       "'4567'"
      ]
     },
     "execution_count": 16,
     "metadata": {},
     "output_type": "execute_result"
    }
   ],
   "source": [
    "phone_number[-4:]"
   ]
  },
  {
   "cell_type": "markdown",
   "id": "6cddb18b",
   "metadata": {},
   "source": [
    "## Exercise 2\n",
    "Get the middle 6 letters of this word: `supercalifragilisticexpialidocious`"
   ]
  },
  {
   "cell_type": "code",
   "execution_count": 18,
   "id": "a6c3691a",
   "metadata": {},
   "outputs": [
    {
     "data": {
      "text/plain": [
       "34"
      ]
     },
     "execution_count": 18,
     "metadata": {},
     "output_type": "execute_result"
    }
   ],
   "source": [
    "# Your code goes here\n",
    "x = 'supercalifragilisticexpialidocious'\n",
    "len(x)"
   ]
  },
  {
   "cell_type": "code",
   "execution_count": 19,
   "id": "939d9cd8",
   "metadata": {},
   "outputs": [
    {
     "data": {
      "text/plain": [
       "'s'"
      ]
     },
     "execution_count": 19,
     "metadata": {},
     "output_type": "execute_result"
    }
   ],
   "source": [
    "x[33]"
   ]
  },
  {
   "cell_type": "code",
   "execution_count": 20,
   "id": "3c4c4452",
   "metadata": {},
   "outputs": [
    {
     "data": {
      "text/plain": [
       "'s'"
      ]
     },
     "execution_count": 20,
     "metadata": {},
     "output_type": "execute_result"
    }
   ],
   "source": [
    "x[16]"
   ]
  },
  {
   "cell_type": "markdown",
   "id": "11b03c70",
   "metadata": {
    "id": "11b03c70"
   },
   "source": [
    "### Checking for strings\n",
    "\n",
    "We can also check for character sequences, or _substrings_ within a string. There are multiple ways to do this, but one of the simplest is with the `in` operator."
   ]
  },
  {
   "cell_type": "code",
   "execution_count": 21,
   "id": "052d6727",
   "metadata": {
    "id": "052d6727"
   },
   "outputs": [],
   "source": [
    "job_qualifications = 'The successful applicant will be proficient in R, Python, SQL, statistics, and data visualization.'"
   ]
  },
  {
   "cell_type": "code",
   "execution_count": 22,
   "id": "b74ffd2c",
   "metadata": {},
   "outputs": [
    {
     "data": {
      "text/plain": [
       "'The successful applicant will be proficient in R, Python, SQL, statistics, and data visualization.'"
      ]
     },
     "execution_count": 22,
     "metadata": {},
     "output_type": "execute_result"
    }
   ],
   "source": [
    "job_qualifications"
   ]
  },
  {
   "cell_type": "code",
   "execution_count": 23,
   "id": "22261d43",
   "metadata": {
    "colab": {
     "base_uri": "https://localhost:8080/"
    },
    "id": "22261d43",
    "outputId": "98df15ab-64db-4b14-ad0e-3b760beccdc1"
   },
   "outputs": [
    {
     "data": {
      "text/plain": [
       "True"
      ]
     },
     "execution_count": 23,
     "metadata": {},
     "output_type": "execute_result"
    }
   ],
   "source": [
    "'R' in job_qualifications"
   ]
  },
  {
   "cell_type": "code",
   "execution_count": 24,
   "id": "0345fd67",
   "metadata": {
    "colab": {
     "base_uri": "https://localhost:8080/"
    },
    "id": "0345fd67",
    "outputId": "26583257-42da-4bab-b326-c7249f67c613"
   },
   "outputs": [
    {
     "data": {
      "text/plain": [
       "False"
      ]
     },
     "execution_count": 24,
     "metadata": {},
     "output_type": "execute_result"
    }
   ],
   "source": [
    "' r ' in job_qualifications"
   ]
  },
  {
   "cell_type": "code",
   "execution_count": 25,
   "id": "c54f65ef",
   "metadata": {
    "colab": {
     "base_uri": "https://localhost:8080/"
    },
    "id": "c54f65ef",
    "outputId": "ede4fcad-d092-46d1-a1ca-ffa1f8a8bec5"
   },
   "outputs": [
    {
     "data": {
      "text/plain": [
       "False"
      ]
     },
     "execution_count": 25,
     "metadata": {},
     "output_type": "execute_result"
    }
   ],
   "source": [
    "'JavaScript' in job_qualifications"
   ]
  },
  {
   "cell_type": "code",
   "execution_count": 26,
   "id": "2475dc87",
   "metadata": {},
   "outputs": [
    {
     "data": {
      "text/plain": [
       "True"
      ]
     },
     "execution_count": 26,
     "metadata": {},
     "output_type": "execute_result"
    }
   ],
   "source": [
    "'licant' in job_qualifications"
   ]
  },
  {
   "cell_type": "code",
   "execution_count": 27,
   "id": "a50cf9c7",
   "metadata": {},
   "outputs": [
    {
     "data": {
      "text/plain": [
       "True"
      ]
     },
     "execution_count": 27,
     "metadata": {},
     "output_type": "execute_result"
    }
   ],
   "source": [
    "'r' in job_qualifications"
   ]
  },
  {
   "cell_type": "markdown",
   "id": "327e7b49",
   "metadata": {},
   "source": [
    "## Strings and functions\n",
    "\n",
    "String data works with some of the functions we've seen before, like `print()`, as well as with built-in functions like `len()`, which tells us how long the argument we pass in is."
   ]
  },
  {
   "cell_type": "code",
   "execution_count": 29,
   "id": "0556df8e",
   "metadata": {},
   "outputs": [
    {
     "name": "stdout",
     "output_type": "stream",
     "text": [
      "1 fish, 2 fish\n"
     ]
    }
   ],
   "source": [
    "# We can print strings, ints, and floats together\n",
    "print(1, 'fish,', 2, 'fish')"
   ]
  },
  {
   "cell_type": "code",
   "execution_count": 28,
   "id": "6a7903e2",
   "metadata": {},
   "outputs": [
    {
     "data": {
      "text/plain": [
       "80"
      ]
     },
     "execution_count": 28,
     "metadata": {},
     "output_type": "execute_result"
    }
   ],
   "source": [
    "len('Sometimes we type long-winded sentences to meet word counts or character counts.')"
   ]
  },
  {
   "cell_type": "markdown",
   "id": "659dd1a9",
   "metadata": {},
   "source": [
    "## String methods\n",
    "\n",
    "Strings in Python also have _methods_, which are functions that work only for a specific type of data. We'll learn about methods in more depth later. The key points here are:\n",
    "\n",
    "- String methods work only on strings -- not on integers, floats, or booleans\n",
    "- Methods are called differently from other functions"
   ]
  },
  {
   "cell_type": "markdown",
   "id": "c9ff4ece",
   "metadata": {},
   "source": [
    "To use a string method, we specify a string, then follow it with a period and the method being called."
   ]
  },
  {
   "cell_type": "code",
   "execution_count": 30,
   "id": "6cee9074",
   "metadata": {},
   "outputs": [
    {
     "data": {
      "text/plain": [
       "'I AM NOT YELLING'"
      ]
     },
     "execution_count": 30,
     "metadata": {},
     "output_type": "execute_result"
    }
   ],
   "source": [
    "# convert a string to all caps\n",
    "'I am not yelling'.upper()"
   ]
  },
  {
   "cell_type": "code",
   "execution_count": 31,
   "id": "2c7eafdf",
   "metadata": {},
   "outputs": [
    {
     "data": {
      "text/plain": [
       "0"
      ]
     },
     "execution_count": 31,
     "metadata": {},
     "output_type": "execute_result"
    }
   ],
   "source": [
    "# count the 'e's\n",
    "'This string is unusual'.count('e')"
   ]
  },
  {
   "cell_type": "code",
   "execution_count": 32,
   "id": "9e016ebe",
   "metadata": {},
   "outputs": [
    {
     "data": {
      "text/plain": [
       "True"
      ]
     },
     "execution_count": 32,
     "metadata": {},
     "output_type": "execute_result"
    }
   ],
   "source": [
    "# check if a string ends with a substring\n",
    "'file_name.csv'.endswith('.csv')"
   ]
  },
  {
   "cell_type": "code",
   "execution_count": 33,
   "id": "a9beef6b",
   "metadata": {},
   "outputs": [
    {
     "data": {
      "text/plain": [
       "'long_file_name_with_spaces.csv'"
      ]
     },
     "execution_count": 33,
     "metadata": {},
     "output_type": "execute_result"
    }
   ],
   "source": [
    "# replace text\n",
    "'long file name with spaces.csv'.replace(' ', '_')"
   ]
  },
  {
   "cell_type": "markdown",
   "id": "9fefba25",
   "metadata": {},
   "source": [
    "For a full list of string methods, see the [Python documentation](https://docs.python.org/3/library/stdtypes.html#string-methods)."
   ]
  },
  {
   "cell_type": "markdown",
   "id": "5e237cbd",
   "metadata": {},
   "source": [
    "### Formatting Strings\n",
    "\n",
    "The `format()` string method makes it easier to combine text with other data. We can create text templates with curly braces (`{}`), then pass values in."
   ]
  },
  {
   "cell_type": "code",
   "execution_count": 34,
   "id": "5ae0487a",
   "metadata": {},
   "outputs": [
    {
     "data": {
      "text/plain": [
       "\"Ada Lovelace's initials are A. L.\""
      ]
     },
     "execution_count": 34,
     "metadata": {},
     "output_type": "execute_result"
    }
   ],
   "source": [
    "first_name = 'Ada'\n",
    "last_name = 'Lovelace'\n",
    "\n",
    "'Ada Lovelace\\'s initials are {}. {}.'.format(first_name[0], last_name[0])"
   ]
  },
  {
   "cell_type": "markdown",
   "id": "81ea999f",
   "metadata": {},
   "source": [
    "If we preface the string with `f`, we can pass values directly into the curly braces."
   ]
  },
  {
   "cell_type": "code",
   "execution_count": 35,
   "id": "05e7baca",
   "metadata": {},
   "outputs": [
    {
     "data": {
      "text/plain": [
       "\"Ada Lovelace's initials are A. L.\""
      ]
     },
     "execution_count": 35,
     "metadata": {},
     "output_type": "execute_result"
    }
   ],
   "source": [
    "f'Ada Lovelace\\'s initials are {first_name[0]}. {last_name[0]}.'"
   ]
  },
  {
   "cell_type": "markdown",
   "id": "c6ffa29a",
   "metadata": {},
   "source": [
    "- **f-string**: `f'...'` is an f-string, it allows for more concise and readable string interpolation by directly embedding expressions within the string.\n",
    "- **`.format()` method**: This method allows for string formatting by specifying placeholders `{}` within the string and providing values to replace those placeholders in the `.format()` method.\n",
    "\n",
    "Both expressions essentially achieve the same outcome: they insert the first characters of the `first_name` and `last_name` variables into the string to state Ada Lovelace's initials. The choice between them often comes down to personal preference and the Python version being used. Many developers prefer f-strings for their simplicity and readability."
   ]
  },
  {
   "cell_type": "markdown",
   "id": "9a7a5359",
   "metadata": {},
   "source": [
    "When in doubt, we can call for `help()`!"
   ]
  },
  {
   "cell_type": "code",
   "execution_count": null,
   "id": "31fed757",
   "metadata": {},
   "outputs": [],
   "source": [
    "help(str.lower)"
   ]
  }
 ],
 "metadata": {
  "celltoolbar": "Slideshow",
  "colab": {
   "collapsed_sections": [
    "0294d7fe",
    "b3f69e98",
    "cd134d80",
    "16f27979",
    "f1caca54",
    "3a700ac7",
    "722d2c13",
    "ed8b70b9"
   ],
   "provenance": [],
   "toc_visible": true
  },
  "kernelspec": {
   "display_name": "dsi_participant",
   "language": "python",
   "name": "python3"
  },
  "language_info": {
   "codemirror_mode": {
    "name": "ipython",
    "version": 3
   },
   "file_extension": ".py",
   "mimetype": "text/x-python",
   "name": "python",
   "nbconvert_exporter": "python",
   "pygments_lexer": "ipython3",
   "version": "3.9.20"
  },
  "rise": {
   "scroll": true,
   "theme": "solarized",
   "transition": "none"
  }
 },
 "nbformat": 4,
 "nbformat_minor": 5
}
