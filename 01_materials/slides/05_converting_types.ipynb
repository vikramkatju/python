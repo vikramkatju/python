{
 "cells": [
  {
   "cell_type": "markdown",
   "id": "94b61ac0",
   "metadata": {
    "id": "94b61ac0"
   },
   "source": [
    "## Converting between types\n",
    "\n",
    "Sometimes, we'll get string data that should be treated as a number, or vice versa. We can use the `str()`, `int()` and `float()` functions to convert between data types. If the argument to the type conversion function is not valid in the target data type, Python will produce an error."
   ]
  },
  {
   "cell_type": "markdown",
   "id": "2a84b460",
   "metadata": {},
   "source": [
    "## Contents:\n",
    "1. String to integer\n",
    "2. String to float\n",
    "3. Float and int to string"
   ]
  },
  {
   "cell_type": "markdown",
   "id": "edb37e4d",
   "metadata": {
    "id": "edb37e4d"
   },
   "source": [
    "#### String to integer"
   ]
  },
  {
   "cell_type": "code",
   "execution_count": 1,
   "id": "5af84a29",
   "metadata": {
    "colab": {
     "base_uri": "https://localhost:8080/"
    },
    "id": "5af84a29",
    "outputId": "c3c7a489-8725-42a9-a740-4a7d9f953774"
   },
   "outputs": [
    {
     "data": {
      "text/plain": [
       "17"
      ]
     },
     "execution_count": 1,
     "metadata": {},
     "output_type": "execute_result"
    }
   ],
   "source": [
    "int('17')"
   ]
  },
  {
   "cell_type": "code",
   "execution_count": 2,
   "id": "fbf1894e",
   "metadata": {
    "colab": {
     "base_uri": "https://localhost:8080/",
     "height": 174
    },
    "id": "fbf1894e",
    "outputId": "aef07162-6ee3-4abc-ed20-f43dd5362213"
   },
   "outputs": [
    {
     "ename": "ValueError",
     "evalue": "invalid literal for int() with base 10: '17.4'",
     "output_type": "error",
     "traceback": [
      "\u001b[0;31m---------------------------------------------------------------------------\u001b[0m",
      "\u001b[0;31mValueError\u001b[0m                                Traceback (most recent call last)",
      "Cell \u001b[0;32mIn[2], line 1\u001b[0m\n\u001b[0;32m----> 1\u001b[0m \u001b[38;5;28;43mint\u001b[39;49m\u001b[43m(\u001b[49m\u001b[38;5;124;43m'\u001b[39;49m\u001b[38;5;124;43m17.4\u001b[39;49m\u001b[38;5;124;43m'\u001b[39;49m\u001b[43m)\u001b[49m\n",
      "\u001b[0;31mValueError\u001b[0m: invalid literal for int() with base 10: '17.4'"
     ]
    }
   ],
   "source": [
    "int('17.4')"
   ]
  },
  {
   "cell_type": "code",
   "execution_count": 3,
   "id": "ed698bf3",
   "metadata": {
    "colab": {
     "base_uri": "https://localhost:8080/",
     "height": 174
    },
    "id": "ed698bf3",
    "outputId": "1e2528eb-4798-4f7b-a6ce-1134d726ce01"
   },
   "outputs": [
    {
     "ename": "ValueError",
     "evalue": "invalid literal for int() with base 10: 'me'",
     "output_type": "error",
     "traceback": [
      "\u001b[0;31m---------------------------------------------------------------------------\u001b[0m",
      "\u001b[0;31mValueError\u001b[0m                                Traceback (most recent call last)",
      "Cell \u001b[0;32mIn[3], line 1\u001b[0m\n\u001b[0;32m----> 1\u001b[0m \u001b[38;5;28;43mint\u001b[39;49m\u001b[43m(\u001b[49m\u001b[38;5;124;43m'\u001b[39;49m\u001b[38;5;124;43mme\u001b[39;49m\u001b[38;5;124;43m'\u001b[39;49m\u001b[43m)\u001b[49m\n",
      "\u001b[0;31mValueError\u001b[0m: invalid literal for int() with base 10: 'me'"
     ]
    }
   ],
   "source": [
    "int('me')"
   ]
  },
  {
   "cell_type": "markdown",
   "id": "5fc3ae9b",
   "metadata": {
    "id": "5fc3ae9b"
   },
   "source": [
    "#### String to float"
   ]
  },
  {
   "cell_type": "code",
   "execution_count": 4,
   "id": "516644f7",
   "metadata": {
    "colab": {
     "base_uri": "https://localhost:8080/"
    },
    "id": "516644f7",
    "outputId": "448db8d0-6a53-400f-cc7e-7ae4a123dbed"
   },
   "outputs": [
    {
     "data": {
      "text/plain": [
       "892.0"
      ]
     },
     "execution_count": 4,
     "metadata": {},
     "output_type": "execute_result"
    }
   ],
   "source": [
    "float('892')"
   ]
  },
  {
   "cell_type": "code",
   "execution_count": 5,
   "id": "f9013665",
   "metadata": {
    "colab": {
     "base_uri": "https://localhost:8080/",
     "height": 174
    },
    "id": "f9013665",
    "outputId": "5b9ffe68-6a40-4394-a1e6-da8c1d62c2ef"
   },
   "outputs": [
    {
     "ename": "ValueError",
     "evalue": "could not convert string to float: 'you'",
     "output_type": "error",
     "traceback": [
      "\u001b[0;31m---------------------------------------------------------------------------\u001b[0m",
      "\u001b[0;31mValueError\u001b[0m                                Traceback (most recent call last)",
      "Cell \u001b[0;32mIn[5], line 1\u001b[0m\n\u001b[0;32m----> 1\u001b[0m \u001b[38;5;28;43mfloat\u001b[39;49m\u001b[43m(\u001b[49m\u001b[38;5;124;43m'\u001b[39;49m\u001b[38;5;124;43myou\u001b[39;49m\u001b[38;5;124;43m'\u001b[39;49m\u001b[43m)\u001b[49m\n",
      "\u001b[0;31mValueError\u001b[0m: could not convert string to float: 'you'"
     ]
    }
   ],
   "source": [
    "float('you')"
   ]
  },
  {
   "cell_type": "markdown",
   "id": "018ce02a",
   "metadata": {
    "id": "018ce02a"
   },
   "source": [
    "#### Float and int to string"
   ]
  },
  {
   "cell_type": "code",
   "execution_count": 6,
   "id": "d750cc4f",
   "metadata": {
    "colab": {
     "base_uri": "https://localhost:8080/",
     "height": 35
    },
    "id": "d750cc4f",
    "outputId": "ac7d3c7a-e1da-4588-fd31-afa7fed415ed"
   },
   "outputs": [
    {
     "data": {
      "text/plain": [
       "'37.5'"
      ]
     },
     "execution_count": 6,
     "metadata": {},
     "output_type": "execute_result"
    }
   ],
   "source": [
    "str(37.5)"
   ]
  },
  {
   "cell_type": "code",
   "execution_count": 7,
   "id": "40d832c1",
   "metadata": {
    "colab": {
     "base_uri": "https://localhost:8080/",
     "height": 35
    },
    "id": "40d832c1",
    "outputId": "a32f85c1-3574-4c35-e020-10b7204bebb9"
   },
   "outputs": [
    {
     "data": {
      "text/plain": [
       "'20'"
      ]
     },
     "execution_count": 7,
     "metadata": {},
     "output_type": "execute_result"
    }
   ],
   "source": [
    "str(20)"
   ]
  },
  {
   "cell_type": "code",
   "execution_count": 8,
   "id": "bdc67737",
   "metadata": {
    "colab": {
     "base_uri": "https://localhost:8080/",
     "height": 35
    },
    "id": "bdc67737",
    "outputId": "60231eaf-67a3-4014-a660-e1e3660652a8"
   },
   "outputs": [
    {
     "data": {
      "text/plain": [
       "'2037.5'"
      ]
     },
     "execution_count": 8,
     "metadata": {},
     "output_type": "execute_result"
    }
   ],
   "source": [
    "'20' + str(37.5)"
   ]
  },
  {
   "cell_type": "markdown",
   "id": "6432e98f",
   "metadata": {},
   "source": [
    "## Exercise\n",
    "Fix the error in the previous notebook example:"
   ]
  },
  {
   "cell_type": "code",
   "execution_count": 9,
   "id": "1f021388",
   "metadata": {},
   "outputs": [
    {
     "ename": "TypeError",
     "evalue": "can only concatenate str (not \"int\") to str",
     "output_type": "error",
     "traceback": [
      "\u001b[0;31m---------------------------------------------------------------------------\u001b[0m",
      "\u001b[0;31mTypeError\u001b[0m                                 Traceback (most recent call last)",
      "Cell \u001b[0;32mIn[9], line 1\u001b[0m\n\u001b[0;32m----> 1\u001b[0m \u001b[38;5;124;43m'\u001b[39;49m\u001b[38;5;124;43mThe year is \u001b[39;49m\u001b[38;5;124;43m'\u001b[39;49m\u001b[43m \u001b[49m\u001b[38;5;241;43m+\u001b[39;49m\u001b[43m \u001b[49m\u001b[38;5;241;43m2020\u001b[39;49m\n",
      "\u001b[0;31mTypeError\u001b[0m: can only concatenate str (not \"int\") to str"
     ]
    }
   ],
   "source": [
    "'The year is ' + 2020"
   ]
  },
  {
   "cell_type": "code",
   "execution_count": 10,
   "id": "7fa8278c",
   "metadata": {},
   "outputs": [
    {
     "data": {
      "text/plain": [
       "'The year is 2020'"
      ]
     },
     "execution_count": 10,
     "metadata": {},
     "output_type": "execute_result"
    }
   ],
   "source": [
    "'The year is ' + str(2020)"
   ]
  }
 ],
 "metadata": {
  "celltoolbar": "Slideshow",
  "colab": {
   "collapsed_sections": [
    "0294d7fe",
    "b3f69e98",
    "cd134d80",
    "16f27979",
    "f1caca54",
    "3a700ac7",
    "722d2c13",
    "ed8b70b9"
   ],
   "provenance": [],
   "toc_visible": true
  },
  "kernelspec": {
   "display_name": "dsi_participant",
   "language": "python",
   "name": "python3"
  },
  "language_info": {
   "codemirror_mode": {
    "name": "ipython",
    "version": 3
   },
   "file_extension": ".py",
   "mimetype": "text/x-python",
   "name": "python",
   "nbconvert_exporter": "python",
   "pygments_lexer": "ipython3",
   "version": "3.9.20"
  },
  "rise": {
   "scroll": true,
   "theme": "solarized",
   "transition": "none"
  }
 },
 "nbformat": 4,
 "nbformat_minor": 5
}
